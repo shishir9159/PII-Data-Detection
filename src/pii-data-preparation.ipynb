{
 "cells": [
  {
   "cell_type": "markdown",
   "id": "6597fa24",
   "metadata": {
    "papermill": {
     "duration": 0.009828,
     "end_time": "2024-02-26T02:41:34.599051",
     "exception": false,
     "start_time": "2024-02-26T02:41:34.589223",
     "status": "completed"
    },
    "tags": []
   },
   "source": [
    "# PII Detection: Data Preparation"
   ]
  },
  {
   "cell_type": "code",
   "execution_count": 1,
   "id": "dcff599d",
   "metadata": {
    "execution": {
     "iopub.execute_input": "2024-02-26T02:41:34.620585Z",
     "iopub.status.busy": "2024-02-26T02:41:34.619733Z",
     "iopub.status.idle": "2024-02-26T02:41:35.940632Z",
     "shell.execute_reply": "2024-02-26T02:41:35.939505Z"
    },
    "papermill": {
     "duration": 1.334634,
     "end_time": "2024-02-26T02:41:35.943310",
     "exception": false,
     "start_time": "2024-02-26T02:41:34.608676",
     "status": "completed"
    },
    "tags": []
   },
   "outputs": [],
   "source": [
    "import json\n",
    "import pandas as pd\n",
    "import plotly.express as px"
   ]
  },
  {
   "cell_type": "markdown",
   "id": "a144fcfa",
   "metadata": {
    "papermill": {
     "duration": 0.009749,
     "end_time": "2024-02-26T02:41:35.962609",
     "exception": false,
     "start_time": "2024-02-26T02:41:35.952860",
     "status": "completed"
    },
    "tags": []
   },
   "source": [
    "Additional Datasets\n",
    "\n",
    "1. [Nicholas](https://www.kaggle.com/datasets/nbroad/pii-dd-mistral-generated)\n",
    "2. [Pj Mathematician](https://www.kaggle.com/competitions/pii-detection-removal-from-educational-data/discussion/470921)\n",
    "3. [Moth](https://www.kaggle.com/competitions/pii-detection-removal-from-educational-data/discussion/469493)\n",
    "4. [Valentin](https://www.kaggle.com/datasets/valentinwerner/pii-label-specific-data)\n",
    "5. [Mpware](https://www.kaggle.com/datasets/mpware/pii-mixtral8x7b-generated-essays)\n",
    "6. [No Fit Just Luck](kaggle.com/datasets/tonyarobertson/mixtral-original-prompt)\n",
    "7. [Dileep](https://www.kaggle.com/datasets/dileepjayamal/pii-detect-gpt3-5-synthetic-data-8k)\n",
    "\n",
    "The version of PJM and Moth's dataset that was cleaned by Valentin is used here."
   ]
  },
  {
   "cell_type": "code",
   "execution_count": 2,
   "id": "78b1d1cd",
   "metadata": {
    "execution": {
     "iopub.execute_input": "2024-02-26T02:41:35.985424Z",
     "iopub.status.busy": "2024-02-26T02:41:35.984559Z",
     "iopub.status.idle": "2024-02-26T02:41:35.989914Z",
     "shell.execute_reply": "2024-02-26T02:41:35.989099Z"
    },
    "papermill": {
     "duration": 0.020181,
     "end_time": "2024-02-26T02:41:35.992299",
     "exception": false,
     "start_time": "2024-02-26T02:41:35.972118",
     "status": "completed"
    },
    "tags": []
   },
   "outputs": [],
   "source": [
    "COMPETITION_TRAIN_PATH = \"/kaggle/input/pii-detection-removal-from-educational-data/train.json\"\n",
    "MOTH_DATA_PATH = \"/kaggle/input/fix-punctuation-tokenization-external-dataset/pii_dataset_fixed.json\"\n",
    "NICH_DATA_PATH = \"/kaggle/input/pii-dd-mistral-generated/mixtral-8x7b-v1.json\"\n",
    "PJM_DATA_PATH = \"/kaggle/input/fix-punctuation-tokenization-external-dataset/moredata_dataset_fixed.json\"\n",
    "VALENTIN_DATA_PATH = \"/kaggle/input/pii-label-specific-data/all_labels.json\""
   ]
  },
  {
   "cell_type": "code",
   "execution_count": 3,
   "id": "f6e391d1",
   "metadata": {
    "execution": {
     "iopub.execute_input": "2024-02-26T02:41:36.013627Z",
     "iopub.status.busy": "2024-02-26T02:41:36.012987Z",
     "iopub.status.idle": "2024-02-26T02:41:36.017745Z",
     "shell.execute_reply": "2024-02-26T02:41:36.016989Z"
    },
    "papermill": {
     "duration": 0.017864,
     "end_time": "2024-02-26T02:41:36.019714",
     "exception": false,
     "start_time": "2024-02-26T02:41:36.001850",
     "status": "completed"
    },
    "tags": []
   },
   "outputs": [],
   "source": [
    "def read_json(file_path: str):\n",
    "    fp = open(file_path)\n",
    "    return json.load(fp)"
   ]
  },
  {
   "cell_type": "code",
   "execution_count": 4,
   "id": "b93fd96b",
   "metadata": {
    "execution": {
     "iopub.execute_input": "2024-02-26T02:41:36.040885Z",
     "iopub.status.busy": "2024-02-26T02:41:36.040266Z",
     "iopub.status.idle": "2024-02-26T02:41:42.122275Z",
     "shell.execute_reply": "2024-02-26T02:41:42.121004Z"
    },
    "papermill": {
     "duration": 6.095781,
     "end_time": "2024-02-26T02:41:42.125037",
     "exception": false,
     "start_time": "2024-02-26T02:41:36.029256",
     "status": "completed"
    },
    "tags": []
   },
   "outputs": [],
   "source": [
    "comp_df = pd.DataFrame(read_json(COMPETITION_TRAIN_PATH))\n",
    "moth_df = pd.DataFrame(read_json(MOTH_DATA_PATH))\n",
    "nich_df = pd.DataFrame(read_json(NICH_DATA_PATH))\n",
    "pjm_df = pd.DataFrame(read_json(PJM_DATA_PATH))\n",
    "valen_df = pd.DataFrame(read_json(VALENTIN_DATA_PATH))"
   ]
  },
  {
   "cell_type": "markdown",
   "id": "e522dfec",
   "metadata": {
    "papermill": {
     "duration": 0.013321,
     "end_time": "2024-02-26T02:41:42.151179",
     "exception": false,
     "start_time": "2024-02-26T02:41:42.137858",
     "status": "completed"
    },
    "tags": []
   },
   "source": [
    "### Highlevel data overview"
   ]
  },
  {
   "cell_type": "code",
   "execution_count": 5,
   "id": "63e28a3f",
   "metadata": {
    "execution": {
     "iopub.execute_input": "2024-02-26T02:41:42.173280Z",
     "iopub.status.busy": "2024-02-26T02:41:42.171882Z",
     "iopub.status.idle": "2024-02-26T02:41:42.181186Z",
     "shell.execute_reply": "2024-02-26T02:41:42.178976Z"
    },
    "papermill": {
     "duration": 0.022761,
     "end_time": "2024-02-26T02:41:42.183624",
     "exception": false,
     "start_time": "2024-02-26T02:41:42.160863",
     "status": "completed"
    },
    "tags": []
   },
   "outputs": [
    {
     "name": "stdout",
     "output_type": "stream",
     "text": [
      "Competition training data shape: (6807, 5)\n",
      "Moth data shape: (4434, 5)\n",
      "Nicholas data shape: (2355, 5)\n",
      "PJ Mathematician data shape: (2000, 5)\n",
      "Valentin's data shape: (4367, 3)\n"
     ]
    }
   ],
   "source": [
    "print(\"Competition training data shape:\", comp_df.shape)\n",
    "print(\"Moth data shape:\", moth_df.shape)\n",
    "print(\"Nicholas data shape:\", nich_df.shape)\n",
    "print(\"PJ Mathematician data shape:\", pjm_df.shape)\n",
    "print(\"Valentin's data shape:\", valen_df.shape)"
   ]
  },
  {
   "cell_type": "code",
   "execution_count": 6,
   "id": "6c5f2ab2",
   "metadata": {
    "execution": {
     "iopub.execute_input": "2024-02-26T02:41:42.207864Z",
     "iopub.status.busy": "2024-02-26T02:41:42.206698Z",
     "iopub.status.idle": "2024-02-26T02:41:42.233100Z",
     "shell.execute_reply": "2024-02-26T02:41:42.232063Z"
    },
    "papermill": {
     "duration": 0.042118,
     "end_time": "2024-02-26T02:41:42.235555",
     "exception": false,
     "start_time": "2024-02-26T02:41:42.193437",
     "status": "completed"
    },
    "tags": []
   },
   "outputs": [
    {
     "data": {
      "text/html": [
       "<div>\n",
       "<style scoped>\n",
       "    .dataframe tbody tr th:only-of-type {\n",
       "        vertical-align: middle;\n",
       "    }\n",
       "\n",
       "    .dataframe tbody tr th {\n",
       "        vertical-align: top;\n",
       "    }\n",
       "\n",
       "    .dataframe thead th {\n",
       "        text-align: right;\n",
       "    }\n",
       "</style>\n",
       "<table border=\"1\" class=\"dataframe\">\n",
       "  <thead>\n",
       "    <tr style=\"text-align: right;\">\n",
       "      <th></th>\n",
       "      <th>document</th>\n",
       "      <th>full_text</th>\n",
       "      <th>tokens</th>\n",
       "      <th>trailing_whitespace</th>\n",
       "      <th>labels</th>\n",
       "    </tr>\n",
       "  </thead>\n",
       "  <tbody>\n",
       "    <tr>\n",
       "      <th>0</th>\n",
       "      <td>7</td>\n",
       "      <td>Design Thinking for innovation reflexion-Avril...</td>\n",
       "      <td>[Design, Thinking, for, innovation, reflexion,...</td>\n",
       "      <td>[True, True, True, True, False, False, True, F...</td>\n",
       "      <td>[O, O, O, O, O, O, O, O, O, B-NAME_STUDENT, I-...</td>\n",
       "    </tr>\n",
       "    <tr>\n",
       "      <th>1</th>\n",
       "      <td>10</td>\n",
       "      <td>Diego Estrada\\n\\nDesign Thinking Assignment\\n\\...</td>\n",
       "      <td>[Diego, Estrada, \\n\\n, Design, Thinking, Assig...</td>\n",
       "      <td>[True, False, False, True, True, False, False,...</td>\n",
       "      <td>[B-NAME_STUDENT, I-NAME_STUDENT, O, O, O, O, O...</td>\n",
       "    </tr>\n",
       "    <tr>\n",
       "      <th>2</th>\n",
       "      <td>16</td>\n",
       "      <td>Reporting process\\n\\nby Gilberto Gamboa\\n\\nCha...</td>\n",
       "      <td>[Reporting, process, \\n\\n, by, Gilberto, Gambo...</td>\n",
       "      <td>[True, False, False, True, True, False, False,...</td>\n",
       "      <td>[O, O, O, O, B-NAME_STUDENT, I-NAME_STUDENT, O...</td>\n",
       "    </tr>\n",
       "  </tbody>\n",
       "</table>\n",
       "</div>"
      ],
      "text/plain": [
       "   document                                          full_text  \\\n",
       "0         7  Design Thinking for innovation reflexion-Avril...   \n",
       "1        10  Diego Estrada\\n\\nDesign Thinking Assignment\\n\\...   \n",
       "2        16  Reporting process\\n\\nby Gilberto Gamboa\\n\\nCha...   \n",
       "\n",
       "                                              tokens  \\\n",
       "0  [Design, Thinking, for, innovation, reflexion,...   \n",
       "1  [Diego, Estrada, \\n\\n, Design, Thinking, Assig...   \n",
       "2  [Reporting, process, \\n\\n, by, Gilberto, Gambo...   \n",
       "\n",
       "                                 trailing_whitespace  \\\n",
       "0  [True, True, True, True, False, False, True, F...   \n",
       "1  [True, False, False, True, True, False, False,...   \n",
       "2  [True, False, False, True, True, False, False,...   \n",
       "\n",
       "                                              labels  \n",
       "0  [O, O, O, O, O, O, O, O, O, B-NAME_STUDENT, I-...  \n",
       "1  [B-NAME_STUDENT, I-NAME_STUDENT, O, O, O, O, O...  \n",
       "2  [O, O, O, O, B-NAME_STUDENT, I-NAME_STUDENT, O...  "
      ]
     },
     "execution_count": 6,
     "metadata": {},
     "output_type": "execute_result"
    }
   ],
   "source": [
    "comp_df.head(3)"
   ]
  },
  {
   "cell_type": "code",
   "execution_count": 7,
   "id": "01cc55bc",
   "metadata": {
    "execution": {
     "iopub.execute_input": "2024-02-26T02:41:42.256760Z",
     "iopub.status.busy": "2024-02-26T02:41:42.256364Z",
     "iopub.status.idle": "2024-02-26T02:41:42.276163Z",
     "shell.execute_reply": "2024-02-26T02:41:42.275098Z"
    },
    "papermill": {
     "duration": 0.03288,
     "end_time": "2024-02-26T02:41:42.278311",
     "exception": false,
     "start_time": "2024-02-26T02:41:42.245431",
     "status": "completed"
    },
    "tags": []
   },
   "outputs": [
    {
     "data": {
      "text/html": [
       "<div>\n",
       "<style scoped>\n",
       "    .dataframe tbody tr th:only-of-type {\n",
       "        vertical-align: middle;\n",
       "    }\n",
       "\n",
       "    .dataframe tbody tr th {\n",
       "        vertical-align: top;\n",
       "    }\n",
       "\n",
       "    .dataframe thead th {\n",
       "        text-align: right;\n",
       "    }\n",
       "</style>\n",
       "<table border=\"1\" class=\"dataframe\">\n",
       "  <thead>\n",
       "    <tr style=\"text-align: right;\">\n",
       "      <th></th>\n",
       "      <th>document</th>\n",
       "      <th>full_text</th>\n",
       "      <th>tokens</th>\n",
       "      <th>trailing_whitespace</th>\n",
       "      <th>labels</th>\n",
       "    </tr>\n",
       "  </thead>\n",
       "  <tbody>\n",
       "    <tr>\n",
       "      <th>0</th>\n",
       "      <td>001010b6-de5c-4a96-bd1f-c8b2b0f15ccc</td>\n",
       "      <td>In my role as a dietician, I have encountered ...</td>\n",
       "      <td>[In, my, role, as, a, dietician, ,, I, have, e...</td>\n",
       "      <td>[True, True, True, True, True, False, True, Tr...</td>\n",
       "      <td>[O, O, O, O, O, O, O, O, O, O, O, O, O, O, O, ...</td>\n",
       "    </tr>\n",
       "    <tr>\n",
       "      <th>1</th>\n",
       "      <td>0016aef8-0d26-45fe-bb7d-ef05311d6383</td>\n",
       "      <td>Hello, my name is Oleg Ivanova, and I'm a geol...</td>\n",
       "      <td>[Hello, ,, my, name, is, Oleg, Ivanova, ,, and...</td>\n",
       "      <td>[False, True, True, True, True, True, False, T...</td>\n",
       "      <td>[O, O, O, O, O, B-NAME_STUDENT, I-NAME_STUDENT...</td>\n",
       "    </tr>\n",
       "    <tr>\n",
       "      <th>2</th>\n",
       "      <td>00207a69-33cc-4f73-8950-8e01871a2f5e</td>\n",
       "      <td>My name is Sofia Watanabe, and I'm a passionat...</td>\n",
       "      <td>[My, name, is, Sofia, Watanabe, ,, and, I, 'm,...</td>\n",
       "      <td>[True, True, True, True, False, True, True, Fa...</td>\n",
       "      <td>[O, O, O, B-NAME_STUDENT, I-NAME_STUDENT, O, O...</td>\n",
       "    </tr>\n",
       "  </tbody>\n",
       "</table>\n",
       "</div>"
      ],
      "text/plain": [
       "                               document  \\\n",
       "0  001010b6-de5c-4a96-bd1f-c8b2b0f15ccc   \n",
       "1  0016aef8-0d26-45fe-bb7d-ef05311d6383   \n",
       "2  00207a69-33cc-4f73-8950-8e01871a2f5e   \n",
       "\n",
       "                                           full_text  \\\n",
       "0  In my role as a dietician, I have encountered ...   \n",
       "1  Hello, my name is Oleg Ivanova, and I'm a geol...   \n",
       "2  My name is Sofia Watanabe, and I'm a passionat...   \n",
       "\n",
       "                                              tokens  \\\n",
       "0  [In, my, role, as, a, dietician, ,, I, have, e...   \n",
       "1  [Hello, ,, my, name, is, Oleg, Ivanova, ,, and...   \n",
       "2  [My, name, is, Sofia, Watanabe, ,, and, I, 'm,...   \n",
       "\n",
       "                                 trailing_whitespace  \\\n",
       "0  [True, True, True, True, True, False, True, Tr...   \n",
       "1  [False, True, True, True, True, True, False, T...   \n",
       "2  [True, True, True, True, False, True, True, Fa...   \n",
       "\n",
       "                                              labels  \n",
       "0  [O, O, O, O, O, O, O, O, O, O, O, O, O, O, O, ...  \n",
       "1  [O, O, O, O, O, B-NAME_STUDENT, I-NAME_STUDENT...  \n",
       "2  [O, O, O, B-NAME_STUDENT, I-NAME_STUDENT, O, O...  "
      ]
     },
     "execution_count": 7,
     "metadata": {},
     "output_type": "execute_result"
    }
   ],
   "source": [
    "moth_df.head(3)"
   ]
  },
  {
   "cell_type": "code",
   "execution_count": 8,
   "id": "4c66ff92",
   "metadata": {
    "execution": {
     "iopub.execute_input": "2024-02-26T02:41:42.300328Z",
     "iopub.status.busy": "2024-02-26T02:41:42.299892Z",
     "iopub.status.idle": "2024-02-26T02:41:42.318317Z",
     "shell.execute_reply": "2024-02-26T02:41:42.317167Z"
    },
    "papermill": {
     "duration": 0.03232,
     "end_time": "2024-02-26T02:41:42.320789",
     "exception": false,
     "start_time": "2024-02-26T02:41:42.288469",
     "status": "completed"
    },
    "tags": []
   },
   "outputs": [
    {
     "data": {
      "text/html": [
       "<div>\n",
       "<style scoped>\n",
       "    .dataframe tbody tr th:only-of-type {\n",
       "        vertical-align: middle;\n",
       "    }\n",
       "\n",
       "    .dataframe tbody tr th {\n",
       "        vertical-align: top;\n",
       "    }\n",
       "\n",
       "    .dataframe thead th {\n",
       "        text-align: right;\n",
       "    }\n",
       "</style>\n",
       "<table border=\"1\" class=\"dataframe\">\n",
       "  <thead>\n",
       "    <tr style=\"text-align: right;\">\n",
       "      <th></th>\n",
       "      <th>document</th>\n",
       "      <th>full_text</th>\n",
       "      <th>tokens</th>\n",
       "      <th>trailing_whitespace</th>\n",
       "      <th>labels</th>\n",
       "    </tr>\n",
       "  </thead>\n",
       "  <tbody>\n",
       "    <tr>\n",
       "      <th>0</th>\n",
       "      <td>pj_0</td>\n",
       "      <td>In today's modern world, where technology has ...</td>\n",
       "      <td>[In, today, 's, modern, world, ,, where, techn...</td>\n",
       "      <td>[True, False, True, True, False, True, True, T...</td>\n",
       "      <td>[O, O, O, O, O, O, O, O, O, O, O, O, O, O, O, ...</td>\n",
       "    </tr>\n",
       "    <tr>\n",
       "      <th>1</th>\n",
       "      <td>pj_1</td>\n",
       "      <td>In today's modern world, where technology has ...</td>\n",
       "      <td>[In, today, 's, modern, world, ,, where, techn...</td>\n",
       "      <td>[True, False, True, True, False, True, True, T...</td>\n",
       "      <td>[O, O, O, O, O, O, O, O, O, O, O, O, O, O, O, ...</td>\n",
       "    </tr>\n",
       "    <tr>\n",
       "      <th>2</th>\n",
       "      <td>pj_10</td>\n",
       "      <td>The Importance of Embracing Technology in Educ...</td>\n",
       "      <td>[The, Importance, of, Embracing, Technology, i...</td>\n",
       "      <td>[True, True, True, True, True, True, False, Fa...</td>\n",
       "      <td>[O, O, O, O, O, O, O, O, O, O, O, O, O, O, O, ...</td>\n",
       "    </tr>\n",
       "  </tbody>\n",
       "</table>\n",
       "</div>"
      ],
      "text/plain": [
       "  document                                          full_text  \\\n",
       "0     pj_0  In today's modern world, where technology has ...   \n",
       "1     pj_1  In today's modern world, where technology has ...   \n",
       "2    pj_10  The Importance of Embracing Technology in Educ...   \n",
       "\n",
       "                                              tokens  \\\n",
       "0  [In, today, 's, modern, world, ,, where, techn...   \n",
       "1  [In, today, 's, modern, world, ,, where, techn...   \n",
       "2  [The, Importance, of, Embracing, Technology, i...   \n",
       "\n",
       "                                 trailing_whitespace  \\\n",
       "0  [True, False, True, True, False, True, True, T...   \n",
       "1  [True, False, True, True, False, True, True, T...   \n",
       "2  [True, True, True, True, True, True, False, Fa...   \n",
       "\n",
       "                                              labels  \n",
       "0  [O, O, O, O, O, O, O, O, O, O, O, O, O, O, O, ...  \n",
       "1  [O, O, O, O, O, O, O, O, O, O, O, O, O, O, O, ...  \n",
       "2  [O, O, O, O, O, O, O, O, O, O, O, O, O, O, O, ...  "
      ]
     },
     "execution_count": 8,
     "metadata": {},
     "output_type": "execute_result"
    }
   ],
   "source": [
    "pjm_df.head(3)"
   ]
  },
  {
   "cell_type": "code",
   "execution_count": 9,
   "id": "aaad9b73",
   "metadata": {
    "execution": {
     "iopub.execute_input": "2024-02-26T02:41:42.343445Z",
     "iopub.status.busy": "2024-02-26T02:41:42.342713Z",
     "iopub.status.idle": "2024-02-26T02:41:42.362627Z",
     "shell.execute_reply": "2024-02-26T02:41:42.361778Z"
    },
    "papermill": {
     "duration": 0.033527,
     "end_time": "2024-02-26T02:41:42.364757",
     "exception": false,
     "start_time": "2024-02-26T02:41:42.331230",
     "status": "completed"
    },
    "tags": []
   },
   "outputs": [
    {
     "data": {
      "text/html": [
       "<div>\n",
       "<style scoped>\n",
       "    .dataframe tbody tr th:only-of-type {\n",
       "        vertical-align: middle;\n",
       "    }\n",
       "\n",
       "    .dataframe tbody tr th {\n",
       "        vertical-align: top;\n",
       "    }\n",
       "\n",
       "    .dataframe thead th {\n",
       "        text-align: right;\n",
       "    }\n",
       "</style>\n",
       "<table border=\"1\" class=\"dataframe\">\n",
       "  <thead>\n",
       "    <tr style=\"text-align: right;\">\n",
       "      <th></th>\n",
       "      <th>document</th>\n",
       "      <th>full_text</th>\n",
       "      <th>tokens</th>\n",
       "      <th>labels</th>\n",
       "      <th>trailing_whitespace</th>\n",
       "    </tr>\n",
       "  </thead>\n",
       "  <tbody>\n",
       "    <tr>\n",
       "      <th>0</th>\n",
       "      <td>dtduupvzgt</td>\n",
       "      <td>Tiburce Evans, https://www.instagram.com/tibur...</td>\n",
       "      <td>[Tiburce, Evans, ,, https://www.instagram.com/...</td>\n",
       "      <td>[B-NAME_STUDENT, I-NAME_STUDENT, O, B-URL_PERS...</td>\n",
       "      <td>[True, False, True, False, True, True, True, F...</td>\n",
       "    </tr>\n",
       "    <tr>\n",
       "      <th>1</th>\n",
       "      <td>uejmzisyyh</td>\n",
       "      <td>Rose-Mai Rodriguez | PIN # 3814374\\n501 Andrea...</td>\n",
       "      <td>[Rose, -, Mai, Rodriguez, |, PIN, #, 3814374, ...</td>\n",
       "      <td>[B-NAME_STUDENT, I-NAME_STUDENT, I-NAME_STUDEN...</td>\n",
       "      <td>[False, False, True, True, True, True, True, F...</td>\n",
       "    </tr>\n",
       "    <tr>\n",
       "      <th>2</th>\n",
       "      <td>jzevfvijlw</td>\n",
       "      <td>Lina Wingate; 095 Terry Via\\nTerrymouth, MT 24...</td>\n",
       "      <td>[Lina, Wingate, ;, 095, Terry, Via, \\n, Terrym...</td>\n",
       "      <td>[B-NAME_STUDENT, I-NAME_STUDENT, O, B-STREET_A...</td>\n",
       "      <td>[True, False, True, True, True, False, False, ...</td>\n",
       "    </tr>\n",
       "  </tbody>\n",
       "</table>\n",
       "</div>"
      ],
      "text/plain": [
       "     document                                          full_text  \\\n",
       "0  dtduupvzgt  Tiburce Evans, https://www.instagram.com/tibur...   \n",
       "1  uejmzisyyh  Rose-Mai Rodriguez | PIN # 3814374\\n501 Andrea...   \n",
       "2  jzevfvijlw  Lina Wingate; 095 Terry Via\\nTerrymouth, MT 24...   \n",
       "\n",
       "                                              tokens  \\\n",
       "0  [Tiburce, Evans, ,, https://www.instagram.com/...   \n",
       "1  [Rose, -, Mai, Rodriguez, |, PIN, #, 3814374, ...   \n",
       "2  [Lina, Wingate, ;, 095, Terry, Via, \\n, Terrym...   \n",
       "\n",
       "                                              labels  \\\n",
       "0  [B-NAME_STUDENT, I-NAME_STUDENT, O, B-URL_PERS...   \n",
       "1  [B-NAME_STUDENT, I-NAME_STUDENT, I-NAME_STUDEN...   \n",
       "2  [B-NAME_STUDENT, I-NAME_STUDENT, O, B-STREET_A...   \n",
       "\n",
       "                                 trailing_whitespace  \n",
       "0  [True, False, True, False, True, True, True, F...  \n",
       "1  [False, False, True, True, True, True, True, F...  \n",
       "2  [True, False, True, True, True, False, False, ...  "
      ]
     },
     "execution_count": 9,
     "metadata": {},
     "output_type": "execute_result"
    }
   ],
   "source": [
    "nich_df.head(3)"
   ]
  },
  {
   "cell_type": "code",
   "execution_count": 10,
   "id": "95299ff0",
   "metadata": {
    "execution": {
     "iopub.execute_input": "2024-02-26T02:41:42.388054Z",
     "iopub.status.busy": "2024-02-26T02:41:42.387135Z",
     "iopub.status.idle": "2024-02-26T02:41:42.406000Z",
     "shell.execute_reply": "2024-02-26T02:41:42.404890Z"
    },
    "papermill": {
     "duration": 0.032766,
     "end_time": "2024-02-26T02:41:42.408120",
     "exception": false,
     "start_time": "2024-02-26T02:41:42.375354",
     "status": "completed"
    },
    "tags": []
   },
   "outputs": [
    {
     "data": {
      "text/html": [
       "<div>\n",
       "<style scoped>\n",
       "    .dataframe tbody tr th:only-of-type {\n",
       "        vertical-align: middle;\n",
       "    }\n",
       "\n",
       "    .dataframe tbody tr th {\n",
       "        vertical-align: top;\n",
       "    }\n",
       "\n",
       "    .dataframe thead th {\n",
       "        text-align: right;\n",
       "    }\n",
       "</style>\n",
       "<table border=\"1\" class=\"dataframe\">\n",
       "  <thead>\n",
       "    <tr style=\"text-align: right;\">\n",
       "      <th></th>\n",
       "      <th>tokens</th>\n",
       "      <th>trailing_whitespace</th>\n",
       "      <th>labels</th>\n",
       "    </tr>\n",
       "  </thead>\n",
       "  <tbody>\n",
       "    <tr>\n",
       "      <th>0</th>\n",
       "      <td>[ , Title, :, Home, at, 958, Ryan, Ports, ,, J...</td>\n",
       "      <td>[False, False, True, True, True, True, True, F...</td>\n",
       "      <td>[O, O, O, O, O, B-STREET_ADDRESS, I-STREET_ADD...</td>\n",
       "    </tr>\n",
       "    <tr>\n",
       "      <th>1</th>\n",
       "      <td>[ , Title, :, My, Home, at, 7600, David, Plain...</td>\n",
       "      <td>[False, False, True, True, True, True, True, T...</td>\n",
       "      <td>[O, O, O, O, O, O, B-STREET_ADDRESS, I-STREET_...</td>\n",
       "    </tr>\n",
       "    <tr>\n",
       "      <th>2</th>\n",
       "      <td>[ , Living, in, PSC, 4747, ,, Box, 7953, APO, ...</td>\n",
       "      <td>[False, True, True, True, False, True, True, T...</td>\n",
       "      <td>[O, O, O, B-STREET_ADDRESS, I-STREET_ADDRESS, ...</td>\n",
       "    </tr>\n",
       "  </tbody>\n",
       "</table>\n",
       "</div>"
      ],
      "text/plain": [
       "                                              tokens  \\\n",
       "0  [ , Title, :, Home, at, 958, Ryan, Ports, ,, J...   \n",
       "1  [ , Title, :, My, Home, at, 7600, David, Plain...   \n",
       "2  [ , Living, in, PSC, 4747, ,, Box, 7953, APO, ...   \n",
       "\n",
       "                                 trailing_whitespace  \\\n",
       "0  [False, False, True, True, True, True, True, F...   \n",
       "1  [False, False, True, True, True, True, True, T...   \n",
       "2  [False, True, True, True, False, True, True, T...   \n",
       "\n",
       "                                              labels  \n",
       "0  [O, O, O, O, O, B-STREET_ADDRESS, I-STREET_ADD...  \n",
       "1  [O, O, O, O, O, O, B-STREET_ADDRESS, I-STREET_...  \n",
       "2  [O, O, O, B-STREET_ADDRESS, I-STREET_ADDRESS, ...  "
      ]
     },
     "execution_count": 10,
     "metadata": {},
     "output_type": "execute_result"
    }
   ],
   "source": [
    "valen_df.head(3)"
   ]
  },
  {
   "cell_type": "code",
   "execution_count": 11,
   "id": "4428dc3e",
   "metadata": {
    "execution": {
     "iopub.execute_input": "2024-02-26T02:41:42.431411Z",
     "iopub.status.busy": "2024-02-26T02:41:42.431016Z",
     "iopub.status.idle": "2024-02-26T02:41:42.436581Z",
     "shell.execute_reply": "2024-02-26T02:41:42.435492Z"
    },
    "papermill": {
     "duration": 0.019774,
     "end_time": "2024-02-26T02:41:42.438641",
     "exception": false,
     "start_time": "2024-02-26T02:41:42.418867",
     "status": "completed"
    },
    "tags": []
   },
   "outputs": [],
   "source": [
    "def build_text(row):\n",
    "    text = []\n",
    "\n",
    "    for t, ws in zip(row.tokens, row.trailing_whitespace):\n",
    "        text.append(t)\n",
    "\n",
    "        if ws:\n",
    "            text.append(\" \")\n",
    "    \n",
    "    return \"\".join(text)"
   ]
  },
  {
   "cell_type": "code",
   "execution_count": 12,
   "id": "07c18938",
   "metadata": {
    "execution": {
     "iopub.execute_input": "2024-02-26T02:41:42.463101Z",
     "iopub.status.busy": "2024-02-26T02:41:42.462061Z",
     "iopub.status.idle": "2024-02-26T02:41:42.961014Z",
     "shell.execute_reply": "2024-02-26T02:41:42.959920Z"
    },
    "papermill": {
     "duration": 0.513784,
     "end_time": "2024-02-26T02:41:42.963530",
     "exception": false,
     "start_time": "2024-02-26T02:41:42.449746",
     "status": "completed"
    },
    "tags": []
   },
   "outputs": [],
   "source": [
    "valen_df[\"full_text\"] = valen_df.apply(build_text, axis=1)"
   ]
  },
  {
   "cell_type": "code",
   "execution_count": 13,
   "id": "4ac6a6d6",
   "metadata": {
    "execution": {
     "iopub.execute_input": "2024-02-26T02:41:42.987575Z",
     "iopub.status.busy": "2024-02-26T02:41:42.987201Z",
     "iopub.status.idle": "2024-02-26T02:41:43.007168Z",
     "shell.execute_reply": "2024-02-26T02:41:43.005952Z"
    },
    "papermill": {
     "duration": 0.034742,
     "end_time": "2024-02-26T02:41:43.009355",
     "exception": false,
     "start_time": "2024-02-26T02:41:42.974613",
     "status": "completed"
    },
    "tags": []
   },
   "outputs": [
    {
     "data": {
      "text/html": [
       "<div>\n",
       "<style scoped>\n",
       "    .dataframe tbody tr th:only-of-type {\n",
       "        vertical-align: middle;\n",
       "    }\n",
       "\n",
       "    .dataframe tbody tr th {\n",
       "        vertical-align: top;\n",
       "    }\n",
       "\n",
       "    .dataframe thead th {\n",
       "        text-align: right;\n",
       "    }\n",
       "</style>\n",
       "<table border=\"1\" class=\"dataframe\">\n",
       "  <thead>\n",
       "    <tr style=\"text-align: right;\">\n",
       "      <th></th>\n",
       "      <th>tokens</th>\n",
       "      <th>trailing_whitespace</th>\n",
       "      <th>labels</th>\n",
       "      <th>full_text</th>\n",
       "    </tr>\n",
       "  </thead>\n",
       "  <tbody>\n",
       "    <tr>\n",
       "      <th>0</th>\n",
       "      <td>[ , Title, :, Home, at, 958, Ryan, Ports, ,, J...</td>\n",
       "      <td>[False, False, True, True, True, True, True, F...</td>\n",
       "      <td>[O, O, O, O, O, B-STREET_ADDRESS, I-STREET_ADD...</td>\n",
       "      <td>Title: Home at 958 Ryan Ports, Jamesstad, FL ...</td>\n",
       "    </tr>\n",
       "    <tr>\n",
       "      <th>1</th>\n",
       "      <td>[ , Title, :, My, Home, at, 7600, David, Plain...</td>\n",
       "      <td>[False, False, True, True, True, True, True, T...</td>\n",
       "      <td>[O, O, O, O, O, O, B-STREET_ADDRESS, I-STREET_...</td>\n",
       "      <td>Title: My Home at 7600 David Plains, Port Hea...</td>\n",
       "    </tr>\n",
       "    <tr>\n",
       "      <th>2</th>\n",
       "      <td>[ , Living, in, PSC, 4747, ,, Box, 7953, APO, ...</td>\n",
       "      <td>[False, True, True, True, False, True, True, T...</td>\n",
       "      <td>[O, O, O, B-STREET_ADDRESS, I-STREET_ADDRESS, ...</td>\n",
       "      <td>Living in PSC 4747, Box 7953 APO AE 16665, I ...</td>\n",
       "    </tr>\n",
       "  </tbody>\n",
       "</table>\n",
       "</div>"
      ],
      "text/plain": [
       "                                              tokens  \\\n",
       "0  [ , Title, :, Home, at, 958, Ryan, Ports, ,, J...   \n",
       "1  [ , Title, :, My, Home, at, 7600, David, Plain...   \n",
       "2  [ , Living, in, PSC, 4747, ,, Box, 7953, APO, ...   \n",
       "\n",
       "                                 trailing_whitespace  \\\n",
       "0  [False, False, True, True, True, True, True, F...   \n",
       "1  [False, False, True, True, True, True, True, T...   \n",
       "2  [False, True, True, True, False, True, True, T...   \n",
       "\n",
       "                                              labels  \\\n",
       "0  [O, O, O, O, O, B-STREET_ADDRESS, I-STREET_ADD...   \n",
       "1  [O, O, O, O, O, O, B-STREET_ADDRESS, I-STREET_...   \n",
       "2  [O, O, O, B-STREET_ADDRESS, I-STREET_ADDRESS, ...   \n",
       "\n",
       "                                           full_text  \n",
       "0   Title: Home at 958 Ryan Ports, Jamesstad, FL ...  \n",
       "1   Title: My Home at 7600 David Plains, Port Hea...  \n",
       "2   Living in PSC 4747, Box 7953 APO AE 16665, I ...  "
      ]
     },
     "execution_count": 13,
     "metadata": {},
     "output_type": "execute_result"
    }
   ],
   "source": [
    "valen_df.head(3)"
   ]
  },
  {
   "cell_type": "markdown",
   "id": "4a1dbb0b",
   "metadata": {
    "papermill": {
     "duration": 0.013339,
     "end_time": "2024-02-26T02:41:43.033804",
     "exception": false,
     "start_time": "2024-02-26T02:41:43.020465",
     "status": "completed"
    },
    "tags": []
   },
   "source": [
    "### Token distribution\n",
    "\n",
    "https://www.kaggle.com/code/ishfar/pii-data-preparation-cv-stride-viz-and-w-b/edit"
   ]
  },
  {
   "cell_type": "code",
   "execution_count": 14,
   "id": "677a27fa",
   "metadata": {
    "execution": {
     "iopub.execute_input": "2024-02-26T02:41:43.063679Z",
     "iopub.status.busy": "2024-02-26T02:41:43.063224Z",
     "iopub.status.idle": "2024-02-26T02:41:44.074450Z",
     "shell.execute_reply": "2024-02-26T02:41:44.073316Z"
    },
    "papermill": {
     "duration": 1.03182,
     "end_time": "2024-02-26T02:41:44.076957",
     "exception": false,
     "start_time": "2024-02-26T02:41:43.045137",
     "status": "completed"
    },
    "tags": []
   },
   "outputs": [],
   "source": [
    "from sklearn.preprocessing import MultiLabelBinarizer"
   ]
  },
  {
   "cell_type": "code",
   "execution_count": 15,
   "id": "e4714ea9",
   "metadata": {
    "execution": {
     "iopub.execute_input": "2024-02-26T02:41:44.100416Z",
     "iopub.status.busy": "2024-02-26T02:41:44.099944Z",
     "iopub.status.idle": "2024-02-26T02:41:44.719592Z",
     "shell.execute_reply": "2024-02-26T02:41:44.718153Z"
    },
    "papermill": {
     "duration": 0.634491,
     "end_time": "2024-02-26T02:41:44.722643",
     "exception": false,
     "start_time": "2024-02-26T02:41:44.088152",
     "status": "completed"
    },
    "tags": []
   },
   "outputs": [
    {
     "name": "stdout",
     "output_type": "stream",
     "text": [
      "EMAIL: 24\n",
      "ID_NUM: 33\n",
      "NAME_STUDENT: 891\n",
      "PHONE_NUM: 4\n",
      "STREET_ADDRESS: 2\n",
      "URL_PERSONAL: 72\n",
      "USERNAME: 5\n",
      "NO_PII: 5862\n"
     ]
    }
   ],
   "source": [
    "def encode_labels(df):\n",
    "    df[\"unique_labels\"] = df[\"labels\"].apply(lambda x: list(set(\n",
    "        [l.split('-')[1] for l in x if l != 'O']\n",
    "         )))\n",
    "    \n",
    "    # add 1-hot encoding\n",
    "    mlb = MultiLabelBinarizer()\n",
    "    one_hot_encoded = mlb.fit_transform(df['unique_labels'])\n",
    "    one_hot_df = pd.DataFrame(one_hot_encoded, columns=mlb.classes_)\n",
    "    df = pd.concat([df, one_hot_df], axis=1)\n",
    "    \n",
    "    # add 'OTHER' column\n",
    "    df['NO_PII'] = df['unique_labels'].apply(lambda x: 1 if len(x) == 0 else 0)\n",
    "    \n",
    "    return df, list(mlb.classes_) + ['NO_PII']\n",
    "\n",
    "comp_df, label_classes = encode_labels(comp_df)\n",
    "\n",
    "for col in label_classes:\n",
    "    print(f'{col}: {comp_df[col].sum()}')"
   ]
  },
  {
   "cell_type": "code",
   "execution_count": 16,
   "id": "03f6c13f",
   "metadata": {
    "execution": {
     "iopub.execute_input": "2024-02-26T02:41:44.747271Z",
     "iopub.status.busy": "2024-02-26T02:41:44.746867Z",
     "iopub.status.idle": "2024-02-26T02:41:44.854267Z",
     "shell.execute_reply": "2024-02-26T02:41:44.853202Z"
    },
    "papermill": {
     "duration": 0.121801,
     "end_time": "2024-02-26T02:41:44.856508",
     "exception": false,
     "start_time": "2024-02-26T02:41:44.734707",
     "status": "completed"
    },
    "tags": []
   },
   "outputs": [
    {
     "name": "stdout",
     "output_type": "stream",
     "text": [
      "EMAIL: 3781\n",
      "NAME_STUDENT: 4052\n",
      "PHONE_NUM: 2385\n",
      "STREET_ADDRESS: 3283\n",
      "URL_PERSONAL: 612\n",
      "USERNAME: 682\n",
      "NO_PII: 9\n"
     ]
    }
   ],
   "source": [
    "moth_df, label_classes = encode_labels(moth_df)\n",
    "\n",
    "for col in label_classes:\n",
    "    print(f'{col}: {moth_df[col].sum()}')"
   ]
  },
  {
   "cell_type": "code",
   "execution_count": 17,
   "id": "0d2ffd2c",
   "metadata": {
    "execution": {
     "iopub.execute_input": "2024-02-26T02:41:44.880420Z",
     "iopub.status.busy": "2024-02-26T02:41:44.880033Z",
     "iopub.status.idle": "2024-02-26T02:41:44.963684Z",
     "shell.execute_reply": "2024-02-26T02:41:44.962482Z"
    },
    "papermill": {
     "duration": 0.098118,
     "end_time": "2024-02-26T02:41:44.965993",
     "exception": false,
     "start_time": "2024-02-26T02:41:44.867875",
     "status": "completed"
    },
    "tags": []
   },
   "outputs": [
    {
     "name": "stdout",
     "output_type": "stream",
     "text": [
      "EMAIL: 1856\n",
      "ID_NUM: 1832\n",
      "NAME_STUDENT: 1891\n",
      "PHONE_NUM: 1825\n",
      "STREET_ADDRESS: 1831\n",
      "URL_PERSONAL: 1862\n",
      "USERNAME: 1826\n",
      "NO_PII: 1\n"
     ]
    }
   ],
   "source": [
    "pjm_df, label_classes = encode_labels(pjm_df)\n",
    "\n",
    "for col in label_classes:\n",
    "    print(f'{col}: {pjm_df[col].sum()}')"
   ]
  },
  {
   "cell_type": "code",
   "execution_count": 18,
   "id": "efac34d3",
   "metadata": {
    "execution": {
     "iopub.execute_input": "2024-02-26T02:41:44.990438Z",
     "iopub.status.busy": "2024-02-26T02:41:44.990034Z",
     "iopub.status.idle": "2024-02-26T02:41:45.113286Z",
     "shell.execute_reply": "2024-02-26T02:41:45.111820Z"
    },
    "papermill": {
     "duration": 0.138271,
     "end_time": "2024-02-26T02:41:45.115526",
     "exception": false,
     "start_time": "2024-02-26T02:41:44.977255",
     "status": "completed"
    },
    "tags": []
   },
   "outputs": [
    {
     "name": "stdout",
     "output_type": "stream",
     "text": [
      "EMAIL: 1590\n",
      "ID_NUM: 1565\n",
      "NAME_STUDENT: 2355\n",
      "PHONE_NUM: 1568\n",
      "STREET_ADDRESS: 1526\n",
      "URL_PERSONAL: 1842\n",
      "USERNAME: 1561\n",
      "NO_PII: 0\n"
     ]
    }
   ],
   "source": [
    "nich_df, label_classes = encode_labels(nich_df)\n",
    "\n",
    "for col in label_classes:\n",
    "    print(f'{col}: {nich_df[col].sum()}')"
   ]
  },
  {
   "cell_type": "code",
   "execution_count": 19,
   "id": "1ab03e1f",
   "metadata": {
    "execution": {
     "iopub.execute_input": "2024-02-26T02:41:45.139406Z",
     "iopub.status.busy": "2024-02-26T02:41:45.139016Z",
     "iopub.status.idle": "2024-02-26T02:41:45.236674Z",
     "shell.execute_reply": "2024-02-26T02:41:45.235454Z"
    },
    "papermill": {
     "duration": 0.11262,
     "end_time": "2024-02-26T02:41:45.239298",
     "exception": false,
     "start_time": "2024-02-26T02:41:45.126678",
     "status": "completed"
    },
    "tags": []
   },
   "outputs": [
    {
     "name": "stdout",
     "output_type": "stream",
     "text": [
      "EMAIL: 486\n",
      "ID_NUM: 508\n",
      "NAME_STUDENT: 1568\n",
      "PHONE_NUM: 504\n",
      "STREET_ADDRESS: 839\n",
      "URL_PERSONAL: 362\n",
      "USERNAME: 624\n",
      "NO_PII: 465\n"
     ]
    }
   ],
   "source": [
    "valen_df, label_classes = encode_labels(valen_df)\n",
    "\n",
    "for col in label_classes:\n",
    "    print(f'{col}: {valen_df[col].sum()}')"
   ]
  },
  {
   "cell_type": "markdown",
   "id": "4a2d04e6",
   "metadata": {
    "papermill": {
     "duration": 0.010958,
     "end_time": "2024-02-26T02:41:45.261616",
     "exception": false,
     "start_time": "2024-02-26T02:41:45.250658",
     "status": "completed"
    },
    "tags": []
   },
   "source": [
    "### CV Split"
   ]
  },
  {
   "cell_type": "code",
   "execution_count": 20,
   "id": "a2a58d2f",
   "metadata": {
    "execution": {
     "iopub.execute_input": "2024-02-26T02:41:45.285378Z",
     "iopub.status.busy": "2024-02-26T02:41:45.284999Z",
     "iopub.status.idle": "2024-02-26T02:41:45.347000Z",
     "shell.execute_reply": "2024-02-26T02:41:45.345541Z"
    },
    "papermill": {
     "duration": 0.076435,
     "end_time": "2024-02-26T02:41:45.349265",
     "exception": false,
     "start_time": "2024-02-26T02:41:45.272830",
     "status": "completed"
    },
    "tags": []
   },
   "outputs": [
    {
     "name": "stdout",
     "output_type": "stream",
     "text": [
      "VALID EMAIL: 13\n",
      "TRAIN EMAIL: 11\n",
      "VALID ID_NUM: 13\n",
      "TRAIN ID_NUM: 20\n",
      "VALID NAME_STUDENT: 124\n",
      "TRAIN NAME_STUDENT: 767\n",
      "VALID PHONE_NUM: 4\n",
      "TRAIN PHONE_NUM: 0\n",
      "VALID STREET_ADDRESS: 2\n",
      "TRAIN STREET_ADDRESS: 0\n",
      "VALID URL_PERSONAL: 26\n",
      "TRAIN URL_PERSONAL: 46\n",
      "VALID USERNAME: 5\n",
      "TRAIN USERNAME: 0\n",
      "VALID NO_PII: 1000\n",
      "TRAIN NO_PII: 4862\n"
     ]
    }
   ],
   "source": [
    "# Shuffle the dataframe\n",
    "comp_df = comp_df.sample(frac=1, random_state=42)\n",
    "\n",
    "# Create a 'valid' column and set it to False\n",
    "comp_df['valid'] = False\n",
    "\n",
    "# Define the validation numbers\n",
    "val_nums = {\n",
    "    'EMAIL': 12,\n",
    "    'ID_NUM': 12,\n",
    "    'NAME_STUDENT': 100,\n",
    "    'PHONE_NUM': 4,\n",
    "    'STREET_ADDRESS': 2,\n",
    "    'URL_PERSONAL': 20,\n",
    "    'USERNAME': 5,\n",
    "    'NO_PII': 1000, \n",
    "}\n",
    "\n",
    "# For each class in val_nums, randomly select the specified number of examples and set 'valid' to True\n",
    "for label, num in val_nums.items():\n",
    "    valid_indices = comp_df[comp_df[label] == 1].sample(n=num, random_state=42).index\n",
    "    comp_df.loc[valid_indices, 'valid'] = True\n",
    "\n",
    "\n",
    "# Let's double check the classes per split:\n",
    "for col in label_classes:\n",
    "    print(f'VALID {col}: {comp_df[comp_df.valid == True][col].sum()}')\n",
    "    print(f'TRAIN {col}: {comp_df[comp_df.valid == False][col].sum()}')"
   ]
  },
  {
   "cell_type": "markdown",
   "id": "194cff1e",
   "metadata": {
    "papermill": {
     "duration": 0.011062,
     "end_time": "2024-02-26T02:41:45.429751",
     "exception": false,
     "start_time": "2024-02-26T02:41:45.418689",
     "status": "completed"
    },
    "tags": []
   },
   "source": [
    "### Extending Training Data"
   ]
  },
  {
   "cell_type": "code",
   "execution_count": 21,
   "id": "eb7f9a72",
   "metadata": {
    "execution": {
     "iopub.execute_input": "2024-02-26T02:41:45.454321Z",
     "iopub.status.busy": "2024-02-26T02:41:45.453907Z",
     "iopub.status.idle": "2024-02-26T02:41:45.460166Z",
     "shell.execute_reply": "2024-02-26T02:41:45.459031Z"
    },
    "papermill": {
     "duration": 0.021267,
     "end_time": "2024-02-26T02:41:45.462513",
     "exception": false,
     "start_time": "2024-02-26T02:41:45.441246",
     "status": "completed"
    },
    "tags": []
   },
   "outputs": [],
   "source": [
    "pjm_df[\"valid\"] = False\n",
    "nich_df[\"valid\"] = False\n",
    "moth_df[\"valid\"] = False\n",
    "valen_df[\"valid\"] = False"
   ]
  },
  {
   "cell_type": "code",
   "execution_count": 22,
   "id": "6be38113",
   "metadata": {
    "execution": {
     "iopub.execute_input": "2024-02-26T02:41:45.486969Z",
     "iopub.status.busy": "2024-02-26T02:41:45.486548Z",
     "iopub.status.idle": "2024-02-26T02:41:45.493854Z",
     "shell.execute_reply": "2024-02-26T02:41:45.492971Z"
    },
    "papermill": {
     "duration": 0.022316,
     "end_time": "2024-02-26T02:41:45.496189",
     "exception": false,
     "start_time": "2024-02-26T02:41:45.473873",
     "status": "completed"
    },
    "tags": []
   },
   "outputs": [],
   "source": [
    "comp_df[\"source\"] = \"Competition\"\n",
    "pjm_df[\"source\"] = \"PJ-Mathematician\"\n",
    "nich_df[\"source\"] = \"Nicholas\"\n",
    "moth_df[\"source\"] = \"Moth\"\n",
    "valen_df[\"source\"] = \"Valentin\""
   ]
  },
  {
   "cell_type": "code",
   "execution_count": 23,
   "id": "c543d213",
   "metadata": {
    "execution": {
     "iopub.execute_input": "2024-02-26T02:41:45.521212Z",
     "iopub.status.busy": "2024-02-26T02:41:45.520260Z",
     "iopub.status.idle": "2024-02-26T02:41:45.537374Z",
     "shell.execute_reply": "2024-02-26T02:41:45.536250Z"
    },
    "papermill": {
     "duration": 0.031959,
     "end_time": "2024-02-26T02:41:45.539636",
     "exception": false,
     "start_time": "2024-02-26T02:41:45.507677",
     "status": "completed"
    },
    "tags": []
   },
   "outputs": [
    {
     "data": {
      "text/plain": [
       "(19963, 16)"
      ]
     },
     "execution_count": 23,
     "metadata": {},
     "output_type": "execute_result"
    }
   ],
   "source": [
    "df = pd.concat([comp_df, pjm_df, nich_df, valen_df, moth_df])\n",
    "df.shape"
   ]
  },
  {
   "cell_type": "code",
   "execution_count": 24,
   "id": "24e41f39",
   "metadata": {
    "execution": {
     "iopub.execute_input": "2024-02-26T02:41:45.565627Z",
     "iopub.status.busy": "2024-02-26T02:41:45.564870Z",
     "iopub.status.idle": "2024-02-26T02:41:45.590041Z",
     "shell.execute_reply": "2024-02-26T02:41:45.588844Z"
    },
    "papermill": {
     "duration": 0.040621,
     "end_time": "2024-02-26T02:41:45.592544",
     "exception": false,
     "start_time": "2024-02-26T02:41:45.551923",
     "status": "completed"
    },
    "tags": []
   },
   "outputs": [
    {
     "data": {
      "text/html": [
       "<div>\n",
       "<style scoped>\n",
       "    .dataframe tbody tr th:only-of-type {\n",
       "        vertical-align: middle;\n",
       "    }\n",
       "\n",
       "    .dataframe tbody tr th {\n",
       "        vertical-align: top;\n",
       "    }\n",
       "\n",
       "    .dataframe thead th {\n",
       "        text-align: right;\n",
       "    }\n",
       "</style>\n",
       "<table border=\"1\" class=\"dataframe\">\n",
       "  <thead>\n",
       "    <tr style=\"text-align: right;\">\n",
       "      <th></th>\n",
       "      <th>document</th>\n",
       "      <th>full_text</th>\n",
       "      <th>tokens</th>\n",
       "      <th>trailing_whitespace</th>\n",
       "      <th>labels</th>\n",
       "      <th>unique_labels</th>\n",
       "      <th>EMAIL</th>\n",
       "      <th>ID_NUM</th>\n",
       "      <th>NAME_STUDENT</th>\n",
       "      <th>PHONE_NUM</th>\n",
       "      <th>STREET_ADDRESS</th>\n",
       "      <th>URL_PERSONAL</th>\n",
       "      <th>USERNAME</th>\n",
       "      <th>NO_PII</th>\n",
       "      <th>valid</th>\n",
       "      <th>source</th>\n",
       "    </tr>\n",
       "  </thead>\n",
       "  <tbody>\n",
       "    <tr>\n",
       "      <th>4624</th>\n",
       "      <td>17809</td>\n",
       "      <td>Assignment: Mindmapping\\n\\nChallenge\\n\\nThe ch...</td>\n",
       "      <td>[Assignment, :, Mindmapping, \\n\\n, Challenge, ...</td>\n",
       "      <td>[False, True, False, False, False, False, True...</td>\n",
       "      <td>[O, O, O, O, O, O, O, O, O, O, O, O, O, O, O, ...</td>\n",
       "      <td>[]</td>\n",
       "      <td>0</td>\n",
       "      <td>0.0</td>\n",
       "      <td>0</td>\n",
       "      <td>0</td>\n",
       "      <td>0</td>\n",
       "      <td>0</td>\n",
       "      <td>0</td>\n",
       "      <td>1</td>\n",
       "      <td>False</td>\n",
       "      <td>Competition</td>\n",
       "    </tr>\n",
       "    <tr>\n",
       "      <th>1740</th>\n",
       "      <td>11144</td>\n",
       "      <td>Reflection – Learning Launch\\n\\nPaola Garcia\\n...</td>\n",
       "      <td>[Reflection, –, Learning, Launch, \\n\\n, Paola,...</td>\n",
       "      <td>[True, True, True, False, False, True, False, ...</td>\n",
       "      <td>[O, O, O, O, O, B-NAME_STUDENT, I-NAME_STUDENT...</td>\n",
       "      <td>[NAME_STUDENT]</td>\n",
       "      <td>0</td>\n",
       "      <td>0.0</td>\n",
       "      <td>1</td>\n",
       "      <td>0</td>\n",
       "      <td>0</td>\n",
       "      <td>0</td>\n",
       "      <td>0</td>\n",
       "      <td>0</td>\n",
       "      <td>False</td>\n",
       "      <td>Competition</td>\n",
       "    </tr>\n",
       "    <tr>\n",
       "      <th>3948</th>\n",
       "      <td>16158</td>\n",
       "      <td>Visualisation\\n\\nChallenge &amp; Selection\\n\\nThe ...</td>\n",
       "      <td>[Visualisation, \\n\\n, Challenge, &amp;, Selection,...</td>\n",
       "      <td>[False, False, True, True, False, False, True,...</td>\n",
       "      <td>[O, O, O, O, O, O, O, O, O, O, O, O, O, O, O, ...</td>\n",
       "      <td>[]</td>\n",
       "      <td>0</td>\n",
       "      <td>0.0</td>\n",
       "      <td>0</td>\n",
       "      <td>0</td>\n",
       "      <td>0</td>\n",
       "      <td>0</td>\n",
       "      <td>0</td>\n",
       "      <td>1</td>\n",
       "      <td>False</td>\n",
       "      <td>Competition</td>\n",
       "    </tr>\n",
       "  </tbody>\n",
       "</table>\n",
       "</div>"
      ],
      "text/plain": [
       "     document                                          full_text  \\\n",
       "4624    17809  Assignment: Mindmapping\\n\\nChallenge\\n\\nThe ch...   \n",
       "1740    11144  Reflection – Learning Launch\\n\\nPaola Garcia\\n...   \n",
       "3948    16158  Visualisation\\n\\nChallenge & Selection\\n\\nThe ...   \n",
       "\n",
       "                                                 tokens  \\\n",
       "4624  [Assignment, :, Mindmapping, \\n\\n, Challenge, ...   \n",
       "1740  [Reflection, –, Learning, Launch, \\n\\n, Paola,...   \n",
       "3948  [Visualisation, \\n\\n, Challenge, &, Selection,...   \n",
       "\n",
       "                                    trailing_whitespace  \\\n",
       "4624  [False, True, False, False, False, False, True...   \n",
       "1740  [True, True, True, False, False, True, False, ...   \n",
       "3948  [False, False, True, True, False, False, True,...   \n",
       "\n",
       "                                                 labels   unique_labels  \\\n",
       "4624  [O, O, O, O, O, O, O, O, O, O, O, O, O, O, O, ...              []   \n",
       "1740  [O, O, O, O, O, B-NAME_STUDENT, I-NAME_STUDENT...  [NAME_STUDENT]   \n",
       "3948  [O, O, O, O, O, O, O, O, O, O, O, O, O, O, O, ...              []   \n",
       "\n",
       "      EMAIL  ID_NUM  NAME_STUDENT  PHONE_NUM  STREET_ADDRESS  URL_PERSONAL  \\\n",
       "4624      0     0.0             0          0               0             0   \n",
       "1740      0     0.0             1          0               0             0   \n",
       "3948      0     0.0             0          0               0             0   \n",
       "\n",
       "      USERNAME  NO_PII  valid       source  \n",
       "4624         0       1  False  Competition  \n",
       "1740         0       0  False  Competition  \n",
       "3948         0       1  False  Competition  "
      ]
     },
     "execution_count": 24,
     "metadata": {},
     "output_type": "execute_result"
    }
   ],
   "source": [
    "df.head(3)"
   ]
  },
  {
   "cell_type": "code",
   "execution_count": 25,
   "id": "6524ff31",
   "metadata": {
    "execution": {
     "iopub.execute_input": "2024-02-26T02:41:45.618437Z",
     "iopub.status.busy": "2024-02-26T02:41:45.618010Z",
     "iopub.status.idle": "2024-02-26T02:41:45.645705Z",
     "shell.execute_reply": "2024-02-26T02:41:45.644538Z"
    },
    "papermill": {
     "duration": 0.044031,
     "end_time": "2024-02-26T02:41:45.648619",
     "exception": false,
     "start_time": "2024-02-26T02:41:45.604588",
     "status": "completed"
    },
    "tags": []
   },
   "outputs": [
    {
     "data": {
      "text/plain": [
       "EMAIL              7724.0\n",
       "ID_NUM             3925.0\n",
       "NAME_STUDENT      10633.0\n",
       "PHONE_NUM          6282.0\n",
       "STREET_ADDRESS     7479.0\n",
       "URL_PERSONAL       4724.0\n",
       "USERNAME           4693.0\n",
       "NO_PII             5337.0\n",
       "dtype: float64"
      ]
     },
     "execution_count": 25,
     "metadata": {},
     "output_type": "execute_result"
    }
   ],
   "source": [
    "label_dist = df[df.valid == False].loc[:, \"EMAIL\":\"NO_PII\"].sum()\n",
    "label_dist"
   ]
  },
  {
   "cell_type": "code",
   "execution_count": 26,
   "id": "47583c50",
   "metadata": {
    "execution": {
     "iopub.execute_input": "2024-02-26T02:41:45.674999Z",
     "iopub.status.busy": "2024-02-26T02:41:45.674412Z",
     "iopub.status.idle": "2024-02-26T02:41:45.921117Z",
     "shell.execute_reply": "2024-02-26T02:41:45.919950Z"
    },
    "papermill": {
     "duration": 0.262869,
     "end_time": "2024-02-26T02:41:45.923618",
     "exception": false,
     "start_time": "2024-02-26T02:41:45.660749",
     "status": "completed"
    },
    "tags": []
   },
   "outputs": [
    {
     "data": {
      "text/plain": [
       "<Axes: >"
      ]
     },
     "execution_count": 26,
     "metadata": {},
     "output_type": "execute_result"
    },
    {
     "data": {
      "image/png": "[encoded data removed]",
      "text/plain": [
       "<Figure size 640x480 with 1 Axes>"
      ]
     },
     "metadata": {},
     "output_type": "display_data"
    }
   ],
   "source": [
    "label_dist.plot.bar()"
   ]
  },
  {
   "cell_type": "markdown",
   "id": "ede52644",
   "metadata": {
    "papermill": {
     "duration": 0.012236,
     "end_time": "2024-02-26T02:41:45.948453",
     "exception": false,
     "start_time": "2024-02-26T02:41:45.936217",
     "status": "completed"
    },
    "tags": []
   },
   "source": [
    "Setting `document` column to be the index number"
   ]
  },
  {
   "cell_type": "code",
   "execution_count": 27,
   "id": "5c73b6d2",
   "metadata": {
    "execution": {
     "iopub.execute_input": "2024-02-26T02:41:45.976035Z",
     "iopub.status.busy": "2024-02-26T02:41:45.975619Z",
     "iopub.status.idle": "2024-02-26T02:41:45.981028Z",
     "shell.execute_reply": "2024-02-26T02:41:45.979880Z"
    },
    "papermill": {
     "duration": 0.021498,
     "end_time": "2024-02-26T02:41:45.983112",
     "exception": false,
     "start_time": "2024-02-26T02:41:45.961614",
     "status": "completed"
    },
    "tags": []
   },
   "outputs": [],
   "source": [
    "df[\"document\"] = df.index.astype(int)"
   ]
  },
  {
   "cell_type": "code",
   "execution_count": 28,
   "id": "9a6dd633",
   "metadata": {
    "execution": {
     "iopub.execute_input": "2024-02-26T02:41:46.011348Z",
     "iopub.status.busy": "2024-02-26T02:41:46.010631Z",
     "iopub.status.idle": "2024-02-26T02:41:46.034673Z",
     "shell.execute_reply": "2024-02-26T02:41:46.033565Z"
    },
    "papermill": {
     "duration": 0.04074,
     "end_time": "2024-02-26T02:41:46.037235",
     "exception": false,
     "start_time": "2024-02-26T02:41:45.996495",
     "status": "completed"
    },
    "tags": []
   },
   "outputs": [
    {
     "data": {
      "text/html": [
       "<div>\n",
       "<style scoped>\n",
       "    .dataframe tbody tr th:only-of-type {\n",
       "        vertical-align: middle;\n",
       "    }\n",
       "\n",
       "    .dataframe tbody tr th {\n",
       "        vertical-align: top;\n",
       "    }\n",
       "\n",
       "    .dataframe thead th {\n",
       "        text-align: right;\n",
       "    }\n",
       "</style>\n",
       "<table border=\"1\" class=\"dataframe\">\n",
       "  <thead>\n",
       "    <tr style=\"text-align: right;\">\n",
       "      <th></th>\n",
       "      <th>document</th>\n",
       "      <th>full_text</th>\n",
       "      <th>tokens</th>\n",
       "      <th>trailing_whitespace</th>\n",
       "      <th>labels</th>\n",
       "      <th>unique_labels</th>\n",
       "      <th>EMAIL</th>\n",
       "      <th>ID_NUM</th>\n",
       "      <th>NAME_STUDENT</th>\n",
       "      <th>PHONE_NUM</th>\n",
       "      <th>STREET_ADDRESS</th>\n",
       "      <th>URL_PERSONAL</th>\n",
       "      <th>USERNAME</th>\n",
       "      <th>NO_PII</th>\n",
       "      <th>valid</th>\n",
       "      <th>source</th>\n",
       "    </tr>\n",
       "  </thead>\n",
       "  <tbody>\n",
       "    <tr>\n",
       "      <th>4624</th>\n",
       "      <td>4624</td>\n",
       "      <td>Assignment: Mindmapping\\n\\nChallenge\\n\\nThe ch...</td>\n",
       "      <td>[Assignment, :, Mindmapping, \\n\\n, Challenge, ...</td>\n",
       "      <td>[False, True, False, False, False, False, True...</td>\n",
       "      <td>[O, O, O, O, O, O, O, O, O, O, O, O, O, O, O, ...</td>\n",
       "      <td>[]</td>\n",
       "      <td>0</td>\n",
       "      <td>0.0</td>\n",
       "      <td>0</td>\n",
       "      <td>0</td>\n",
       "      <td>0</td>\n",
       "      <td>0</td>\n",
       "      <td>0</td>\n",
       "      <td>1</td>\n",
       "      <td>False</td>\n",
       "      <td>Competition</td>\n",
       "    </tr>\n",
       "    <tr>\n",
       "      <th>1740</th>\n",
       "      <td>1740</td>\n",
       "      <td>Reflection – Learning Launch\\n\\nPaola Garcia\\n...</td>\n",
       "      <td>[Reflection, –, Learning, Launch, \\n\\n, Paola,...</td>\n",
       "      <td>[True, True, True, False, False, True, False, ...</td>\n",
       "      <td>[O, O, O, O, O, B-NAME_STUDENT, I-NAME_STUDENT...</td>\n",
       "      <td>[NAME_STUDENT]</td>\n",
       "      <td>0</td>\n",
       "      <td>0.0</td>\n",
       "      <td>1</td>\n",
       "      <td>0</td>\n",
       "      <td>0</td>\n",
       "      <td>0</td>\n",
       "      <td>0</td>\n",
       "      <td>0</td>\n",
       "      <td>False</td>\n",
       "      <td>Competition</td>\n",
       "    </tr>\n",
       "    <tr>\n",
       "      <th>3948</th>\n",
       "      <td>3948</td>\n",
       "      <td>Visualisation\\n\\nChallenge &amp; Selection\\n\\nThe ...</td>\n",
       "      <td>[Visualisation, \\n\\n, Challenge, &amp;, Selection,...</td>\n",
       "      <td>[False, False, True, True, False, False, True,...</td>\n",
       "      <td>[O, O, O, O, O, O, O, O, O, O, O, O, O, O, O, ...</td>\n",
       "      <td>[]</td>\n",
       "      <td>0</td>\n",
       "      <td>0.0</td>\n",
       "      <td>0</td>\n",
       "      <td>0</td>\n",
       "      <td>0</td>\n",
       "      <td>0</td>\n",
       "      <td>0</td>\n",
       "      <td>1</td>\n",
       "      <td>False</td>\n",
       "      <td>Competition</td>\n",
       "    </tr>\n",
       "  </tbody>\n",
       "</table>\n",
       "</div>"
      ],
      "text/plain": [
       "      document                                          full_text  \\\n",
       "4624      4624  Assignment: Mindmapping\\n\\nChallenge\\n\\nThe ch...   \n",
       "1740      1740  Reflection – Learning Launch\\n\\nPaola Garcia\\n...   \n",
       "3948      3948  Visualisation\\n\\nChallenge & Selection\\n\\nThe ...   \n",
       "\n",
       "                                                 tokens  \\\n",
       "4624  [Assignment, :, Mindmapping, \\n\\n, Challenge, ...   \n",
       "1740  [Reflection, –, Learning, Launch, \\n\\n, Paola,...   \n",
       "3948  [Visualisation, \\n\\n, Challenge, &, Selection,...   \n",
       "\n",
       "                                    trailing_whitespace  \\\n",
       "4624  [False, True, False, False, False, False, True...   \n",
       "1740  [True, True, True, False, False, True, False, ...   \n",
       "3948  [False, False, True, True, False, False, True,...   \n",
       "\n",
       "                                                 labels   unique_labels  \\\n",
       "4624  [O, O, O, O, O, O, O, O, O, O, O, O, O, O, O, ...              []   \n",
       "1740  [O, O, O, O, O, B-NAME_STUDENT, I-NAME_STUDENT...  [NAME_STUDENT]   \n",
       "3948  [O, O, O, O, O, O, O, O, O, O, O, O, O, O, O, ...              []   \n",
       "\n",
       "      EMAIL  ID_NUM  NAME_STUDENT  PHONE_NUM  STREET_ADDRESS  URL_PERSONAL  \\\n",
       "4624      0     0.0             0          0               0             0   \n",
       "1740      0     0.0             1          0               0             0   \n",
       "3948      0     0.0             0          0               0             0   \n",
       "\n",
       "      USERNAME  NO_PII  valid       source  \n",
       "4624         0       1  False  Competition  \n",
       "1740         0       0  False  Competition  \n",
       "3948         0       1  False  Competition  "
      ]
     },
     "execution_count": 28,
     "metadata": {},
     "output_type": "execute_result"
    }
   ],
   "source": [
    "df.head(3)"
   ]
  },
  {
   "cell_type": "markdown",
   "id": "eb26be1d",
   "metadata": {
    "papermill": {
     "duration": 0.01239,
     "end_time": "2024-02-26T02:41:46.062602",
     "exception": false,
     "start_time": "2024-02-26T02:41:46.050212",
     "status": "completed"
    },
    "tags": []
   },
   "source": [
    "### Truncation with Stride\n",
    "\n",
    "[Reason](https://www.kaggle.com/competitions/pii-detection-removal-from-educational-data/discussion/473011)"
   ]
  },
  {
   "cell_type": "code",
   "execution_count": 29,
   "id": "fe49bf0b",
   "metadata": {
    "execution": {
     "iopub.execute_input": "2024-02-26T02:41:46.089680Z",
     "iopub.status.busy": "2024-02-26T02:41:46.089049Z",
     "iopub.status.idle": "2024-02-26T02:41:46.624258Z",
     "shell.execute_reply": "2024-02-26T02:41:46.623372Z"
    },
    "papermill": {
     "duration": 0.5518,
     "end_time": "2024-02-26T02:41:46.626924",
     "exception": false,
     "start_time": "2024-02-26T02:41:46.075124",
     "status": "completed"
    },
    "tags": []
   },
   "outputs": [],
   "source": [
    "def add_token_indices(doc_tokens):\n",
    "    token_indices = list(range(len(doc_tokens)))\n",
    "    return token_indices\n",
    "\n",
    "df['token_indices'] = df['tokens'].apply(add_token_indices)"
   ]
  },
  {
   "cell_type": "code",
   "execution_count": 30,
   "id": "a71110d8",
   "metadata": {
    "execution": {
     "iopub.execute_input": "2024-02-26T02:41:46.656863Z",
     "iopub.status.busy": "2024-02-26T02:41:46.656451Z",
     "iopub.status.idle": "2024-02-26T02:41:46.661945Z",
     "shell.execute_reply": "2024-02-26T02:41:46.660843Z"
    },
    "papermill": {
     "duration": 0.02183,
     "end_time": "2024-02-26T02:41:46.664168",
     "exception": false,
     "start_time": "2024-02-26T02:41:46.642338",
     "status": "completed"
    },
    "tags": []
   },
   "outputs": [],
   "source": [
    "def rebuild_text(tokens, trailing_whitespace):\n",
    "    text = ''\n",
    "    \n",
    "    for token, ws in zip(tokens, trailing_whitespace):\n",
    "        ws = \" \" if ws == True else \"\"\n",
    "        text += token + ws\n",
    "        \n",
    "    return text"
   ]
  },
  {
   "cell_type": "code",
   "execution_count": 31,
   "id": "91408109",
   "metadata": {
    "execution": {
     "iopub.execute_input": "2024-02-26T02:41:46.691663Z",
     "iopub.status.busy": "2024-02-26T02:41:46.691268Z",
     "iopub.status.idle": "2024-02-26T02:41:46.702675Z",
     "shell.execute_reply": "2024-02-26T02:41:46.701521Z"
    },
    "papermill": {
     "duration": 0.027595,
     "end_time": "2024-02-26T02:41:46.704729",
     "exception": false,
     "start_time": "2024-02-26T02:41:46.677134",
     "status": "completed"
    },
    "tags": []
   },
   "outputs": [],
   "source": [
    "def split_rows(df, max_length, doc_stride):\n",
    "    new_df = []\n",
    "    \n",
    "    for _, row in df.iterrows():\n",
    "        tokens = row['tokens']\n",
    "        \n",
    "        if len(tokens) > max_length:\n",
    "            start = 0\n",
    "            \n",
    "            while start < len(tokens):\n",
    "                remaining_tokens = len(tokens) - start\n",
    "                \n",
    "                if remaining_tokens < max_length and start != 0:\n",
    "                    # Adjust start for the last window to ensure it has max_length tokens\n",
    "                    start = max(0, len(tokens) - max_length)\n",
    "                    \n",
    "                end = min(start + max_length, len(tokens))\n",
    "                \n",
    "                new_row = {}\n",
    "                new_row['document'] = row['document']\n",
    "                new_row['valid'] = row['valid']\n",
    "                new_row['tokens'] = tokens[start:end]\n",
    "                new_row['trailing_whitespace'] = row['trailing_whitespace'][start:end]\n",
    "                new_row['labels'] = row['labels'][start:end]\n",
    "                new_row['token_indices'] = list(range(start, end))\n",
    "                new_row['full_text'] = rebuild_text(new_row['tokens'], new_row['trailing_whitespace'])\n",
    "                new_row['sourse'] = row['source']\n",
    "                new_df.append(new_row)\n",
    "                \n",
    "                if remaining_tokens >= max_length:\n",
    "                    start += doc_stride\n",
    "                else:\n",
    "                    # Break the loop if we've adjusted for the last window\n",
    "                    break\n",
    "        else:\n",
    "            new_row = {\n",
    "                'document': row['document'], \n",
    "                'valid': row['valid'],\n",
    "                'tokens': row['tokens'], \n",
    "                'trailing_whitespace': row['trailing_whitespace'], \n",
    "                'labels': row['labels'], \n",
    "                'token_indices': row['token_indices'], \n",
    "                'full_text': row['full_text'],\n",
    "                'source': row['source']\n",
    "            }\n",
    "            new_df.append(new_row)\n",
    "            \n",
    "    return pd.DataFrame(new_df)"
   ]
  },
  {
   "cell_type": "code",
   "execution_count": 32,
   "id": "d7b1d993",
   "metadata": {
    "execution": {
     "iopub.execute_input": "2024-02-26T02:41:46.733194Z",
     "iopub.status.busy": "2024-02-26T02:41:46.732224Z",
     "iopub.status.idle": "2024-02-26T02:41:49.859209Z",
     "shell.execute_reply": "2024-02-26T02:41:49.858047Z"
    },
    "papermill": {
     "duration": 3.143964,
     "end_time": "2024-02-26T02:41:49.861820",
     "exception": false,
     "start_time": "2024-02-26T02:41:46.717856",
     "status": "completed"
    },
    "tags": []
   },
   "outputs": [],
   "source": [
    "max_length = 1024\n",
    "doc_stride = 384\n",
    "stride_df = split_rows(df, max_length, doc_stride)\n",
    "stride_df, label_classes = encode_labels(stride_df)"
   ]
  },
  {
   "cell_type": "code",
   "execution_count": 33,
   "id": "bfc3b474",
   "metadata": {
    "execution": {
     "iopub.execute_input": "2024-02-26T02:41:49.889305Z",
     "iopub.status.busy": "2024-02-26T02:41:49.888699Z",
     "iopub.status.idle": "2024-02-26T02:41:49.893599Z",
     "shell.execute_reply": "2024-02-26T02:41:49.892616Z"
    },
    "papermill": {
     "duration": 0.020968,
     "end_time": "2024-02-26T02:41:49.895680",
     "exception": false,
     "start_time": "2024-02-26T02:41:49.874712",
     "status": "completed"
    },
    "tags": []
   },
   "outputs": [
    {
     "name": "stdout",
     "output_type": "stream",
     "text": [
      "Length of original data: 19963\n",
      "Length of strided data: 21672\n"
     ]
    }
   ],
   "source": [
    "print(\"Length of original data:\", len(df))\n",
    "print(\"Length of strided data:\", len(stride_df))"
   ]
  },
  {
   "cell_type": "markdown",
   "id": "32365498",
   "metadata": {
    "papermill": {
     "duration": 0.013276,
     "end_time": "2024-02-26T02:41:49.921822",
     "exception": false,
     "start_time": "2024-02-26T02:41:49.908546",
     "status": "completed"
    },
    "tags": []
   },
   "source": [
    "Save as CSV"
   ]
  },
  {
   "cell_type": "code",
   "execution_count": 34,
   "id": "1bb0e886",
   "metadata": {
    "execution": {
     "iopub.execute_input": "2024-02-26T02:41:49.949899Z",
     "iopub.status.busy": "2024-02-26T02:41:49.949310Z",
     "iopub.status.idle": "2024-02-26T02:41:49.953293Z",
     "shell.execute_reply": "2024-02-26T02:41:49.952293Z"
    },
    "papermill": {
     "duration": 0.020403,
     "end_time": "2024-02-26T02:41:49.955450",
     "exception": false,
     "start_time": "2024-02-26T02:41:49.935047",
     "status": "completed"
    },
    "tags": []
   },
   "outputs": [],
   "source": [
    "# df.to_csv(\"cv_data.csv\", index=False)\n",
    "# stride_df.to_csv(\"cv_strided_data.csv\", index=False)"
   ]
  },
  {
   "cell_type": "markdown",
   "id": "2249120d",
   "metadata": {
    "papermill": {
     "duration": 0.01291,
     "end_time": "2024-02-26T02:41:49.981809",
     "exception": false,
     "start_time": "2024-02-26T02:41:49.968899",
     "status": "completed"
    },
    "tags": []
   },
   "source": [
    "Save as JSON"
   ]
  },
  {
   "cell_type": "code",
   "execution_count": 35,
   "id": "2e4353e9",
   "metadata": {
    "execution": {
     "iopub.execute_input": "2024-02-26T02:41:50.010870Z",
     "iopub.status.busy": "2024-02-26T02:41:50.009903Z",
     "iopub.status.idle": "2024-02-26T02:41:53.901917Z",
     "shell.execute_reply": "2024-02-26T02:41:53.900818Z"
    },
    "papermill": {
     "duration": 3.909225,
     "end_time": "2024-02-26T02:41:53.904410",
     "exception": false,
     "start_time": "2024-02-26T02:41:49.995185",
     "status": "completed"
    },
    "tags": []
   },
   "outputs": [],
   "source": [
    "def convert_to_json(data):\n",
    "    return [\n",
    "        {\n",
    "            \"document\":row[\"document\"],\n",
    "            \"full_text\":row[\"full_text\"],\n",
    "            \"tokens\":row[\"tokens\"],\n",
    "            \"trailing_whitespace\":row[\"trailing_whitespace\"],\n",
    "            \"labels\":row[\"labels\"],\n",
    "            \"valid\":row['valid'],\n",
    "            'source': row['source'],\n",
    "            'token_indices': row['token_indices']\n",
    "        }\n",
    "        for _, row in data.iterrows()\n",
    "    ]\n",
    "\n",
    "\n",
    "df_json = convert_to_json(df)\n",
    "stride_df_json = convert_to_json(stride_df)"
   ]
  },
  {
   "cell_type": "code",
   "execution_count": 36,
   "id": "2ecf3d47",
   "metadata": {
    "execution": {
     "iopub.execute_input": "2024-02-26T02:41:53.931754Z",
     "iopub.status.busy": "2024-02-26T02:41:53.931399Z",
     "iopub.status.idle": "2024-02-26T02:42:45.954032Z",
     "shell.execute_reply": "2024-02-26T02:42:45.952997Z"
    },
    "papermill": {
     "duration": 52.039487,
     "end_time": "2024-02-26T02:42:45.956776",
     "exception": false,
     "start_time": "2024-02-26T02:41:53.917289",
     "status": "completed"
    },
    "tags": []
   },
   "outputs": [],
   "source": [
    "def write_json_file(data, file_name):\n",
    "    with open(file_name, \"w\") as fp:\n",
    "        json.dump(data, fp) \n",
    "        \n",
    "        \n",
    "write_json_file(df_json, \"cv_data.json\")\n",
    "write_json_file(stride_df_json, \"cv_strided_data.json\")"
   ]
  }
 ],
 "metadata": {
  "kaggle": {
   "accelerator": "none",
   "dataSources": [
    {
     "databundleVersionId": 7500999,
     "sourceId": 66653,
     "sourceType": "competition"
    },
    {
     "datasetId": 4379849,
     "sourceId": 7518925,
     "sourceType": "datasetVersion"
    },
    {
     "datasetId": 4408977,
     "sourceId": 7583610,
     "sourceType": "datasetVersion"
    },
    {
     "sourceId": 163088908,
     "sourceType": "kernelVersion"
    }
   ],
   "dockerImageVersionId": 30646,
   "isGpuEnabled": false,
   "isInternetEnabled": true,
   "language": "python",
   "sourceType": "notebook"
  },
  "kernelspec": {
   "display_name": "Python 3",
   "language": "python",
   "name": "python3"
  },
  "language_info": {
   "codemirror_mode": {
    "name": "ipython",
    "version": 3
   },
   "file_extension": ".py",
   "mimetype": "text/x-python",
   "name": "python",
   "nbconvert_exporter": "python",
   "pygments_lexer": "ipython3",
   "version": "3.10.13"
  },
  "papermill": {
   "default_parameters": {},
   "duration": 75.599502,
   "end_time": "2024-02-26T02:42:47.597930",
   "environment_variables": {},
   "exception": null,
   "input_path": "__notebook__.ipynb",
   "output_path": "__notebook__.ipynb",
   "parameters": {},
   "start_time": "2024-02-26T02:41:31.998428",
   "version": "2.5.0"
  }
 },
 "nbformat": 4,
 "nbformat_minor": 5
}
